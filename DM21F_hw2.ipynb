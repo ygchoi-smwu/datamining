{
  "nbformat": 4,
  "nbformat_minor": 0,
  "metadata": {
    "colab": {
      "name": "DM21F-hw2.ipynb",
      "provenance": [],
      "collapsed_sections": [],
      "authorship_tag": "ABX9TyOTGzZFGyR5qNmshwibtFKr",
      "include_colab_link": true
    },
    "kernelspec": {
      "name": "ir",
      "display_name": "R"
    },
    "language_info": {
      "name": "R"
    }
  },
  "cells": [
    {
      "cell_type": "markdown",
      "metadata": {
        "id": "view-in-github",
        "colab_type": "text"
      },
      "source": [
        "<a href=\"https://colab.research.google.com/github/ygchoi-smwu/datamining/blob/main/DM21F_hw2.ipynb\" target=\"_parent\"><img src=\"https://colab.research.google.com/assets/colab-badge.svg\" alt=\"Open In Colab\"/></a>"
      ]
    },
    {
      "cell_type": "markdown",
      "metadata": {
        "id": "HHiljQlBS1q-"
      },
      "source": [
        "# HW 2 -- Due 10/5 (화) 3pm\n",
        "\n",
        "_데이터마이닝 (2021-2 숙명여대 통계학과)_,  Last update at 2021-09-21 01:13pm\n",
        "\n",
        "### 조원 이름 (e.g. 2112345 김눈송, 2112346 김송이, 2112347 김통계)\n",
        "\n",
        "### 본 숙제의 최종 검토 겸 제출자: ___"
      ]
    },
    {
      "cell_type": "markdown",
      "metadata": {
        "id": "zRECGVkxTpss"
      },
      "source": [
        "## 0. 일러두기\n",
        "\n",
        "- 풀이&제출법\n",
        "    - **이론 문항**\n",
        "        - 풀이를 수기작성하여 하나의 PDF 파일로 수합합니다.\n",
        "    - **코딩 문항** \n",
        "        - 풀이는 본 ipynb notebook에 수행합니다.\n",
        "        - **사고과정과 핵심 수치는 text chunk를 만들어 답하되, 제시된 수치를 재현할 수 있는 code chunk를 같이 첨부**하십시오.\n",
        "        - **실행 결과가 기록된 ipynb만 채점합니다.** 제출 전 반드시 ‘[수정]-[모든 출력 지우기]’ 및 ‘[런타임]-[다시 시작 및 모두 실행]’!\n",
        "    - 문항마다 풀이자와 기여자를 기록합니다. (free rider 예방이 목적입니다. 사람 수에 제한은 없고 자율적 판단하에 기록하십시오) \n",
        "    - PDF 한개, ipynb 한개를 최종검토&제출자가 업로드합니다.\n",
        "- 이번 숙제에서 허용되는 라이브러리는 아래와 같으나, 그 외에 스스로 필요하다고 판단하면 **ISLR 3장까지 등장한 라이브러리는 모두 사용 가능**합니다. 아래 code chunk를 실행시키세요.\n"
      ]
    },
    {
      "cell_type": "code",
      "metadata": {
        "id": "mN_g9JN0WEy2",
        "colab": {
          "base_uri": "https://localhost:8080/"
        },
        "outputId": "8efa1264-db37-486d-e9c4-d90a174463d2"
      },
      "source": [
        "library(stringr)\n",
        "install.packages(c(\"ISLR2\", \"FNN\"))\n",
        "library(ISLR2)\n",
        "library(FNN)"
      ],
      "execution_count": 3,
      "outputs": [
        {
          "output_type": "stream",
          "name": "stderr",
          "text": [
            "Installing packages into ‘/usr/local/lib/R/site-library’\n",
            "(as ‘lib’ is unspecified)\n",
            "\n"
          ]
        }
      ]
    },
    {
      "cell_type": "markdown",
      "metadata": {
        "id": "GMHvDTcXPqQ-"
      },
      "source": [
        "## (이론) 1.\n",
        "\n",
        "이 문제의 목표는 이론적 개념을 실생활을 예시로 설명하는 것이다.\n",
        "\n",
        "* (a) Irredicuble error가 큰 회귀문제의 예시를 들어라. 그 문제에서 어떤 경우에 irreducible error가 작아질 수 있는가?\n",
        "\n",
        "* (b) Irredicuble error가 작은 회귀문제의 예시를 들어라. (a와는 다른 예시를 찾으라) 그 문제에서 어떤 경우에 irreducible error가 커질 수 있는가?\n",
        "\n",
        "* (c) Bayes error가 큰 분류문제의 예시를 들어라. 그 문제에서 어떤 경우에 Bayes error가 작아질 수 있는가?\n",
        "\n",
        "* (d) Bayes error가 작은 분류문제의 예시를 들어라. (c와는 다른 예시를 찾으라) 그 문제에서 어떤 경우에 Bayes error가 커질 수 있는가?\n",
        "\n"
      ]
    },
    {
      "cell_type": "markdown",
      "metadata": {
        "id": "Z1ahW89lYzum"
      },
      "source": [
        "## (이론) 2. ISLR 연습문제 3.4\n",
        "\n",
        "주의: 소문제 (a)와 (c)는 수식으로 증명하라. (힌트: 두 집합 $A$, $B$가 $A \\subseteq B$이면 임의의 실변수함수 $f$에 대하여 $\\min_{x \\in A} f(x) \\leq \\min_{x \\in B} f(x)$)"
      ]
    },
    {
      "cell_type": "markdown",
      "metadata": {
        "id": "m-gJLCczUq1S"
      },
      "source": [
        "## (이론) 3.  \n",
        "\n",
        "\n",
        "선형대수에서 고유값 및 양정치 개념의 복습이다. \n",
        "\n",
        "대칭행렬 ${\\bf A} \\in \\mathbb{R}^{p \\times p}$이 다음 성질을 만족하면 **양정치 행렬 (또는 양의 정부호 행렬, positive definite matrix)**이라 불린다: [임의의 non-zero vector $x \\in \\mathbb{R}^p$에 대하여,  $x^T {\\bf A} x > 0$]\n",
        "\n",
        "비슷하게, 다음 성질을 만족하면 **준-양정치 행렬 (또는 양의 준-정부호 행렬, positive semi-definite matrix)**라 불린다. [임의의 non-zero vector $x \\in \\mathbb{R}^p$에 대하여,  $x^T {\\bf A} x \\geq 0$]\n",
        "\n",
        "아래 물음에 답하시오.\n",
        "\n",
        "* (a) ${\\bf A} = \\begin{bmatrix} 2 & 0 \\\\ 0 & 1 \\end{bmatrix}$은 i. 양정치 행렬인가? ii. 준-양정치 행렬인가? 맞다면 증명하고, 틀리면 반례를 들어라. (힌트: $a, b \\geq 0$인 두 실수 $a$, $b$에 대하여  $a + b = 0 \\Rightarrow a=b=0$이 필요할 것이다.)\n",
        "* (b) ${\\bf B} = \\begin{bmatrix} 2 & 0 \\\\ 0 & 0 \\end{bmatrix}$에 대하여 (a)의 두 물음에 답하여라.\n",
        "* (c) ${\\bf C} = \\begin{bmatrix} 2 & 0 \\\\ 0 & -1 \\end{bmatrix}$에 대하여 (a)의 두 물음에 답하여라.\n",
        "* (d) ${\\bf D} = \\begin{bmatrix} 3 & 1 \\\\ 1 & 1 \\end{bmatrix}$에 대하여 (a)의 두 물음에 답하여라.\n",
        "* (e) ${\\bf A}$부터 ${\\bf D}$까지 네 행렬의 고유값(eigenvalue)를 구하여라. 네 행렬 고유값들은 네 행렬의 양정치성/준-양정치성 여부와 어떤 관계가 있는가?"
      ]
    },
    {
      "cell_type": "markdown",
      "metadata": {
        "id": "kRLOdkg3oabq"
      },
      "source": [
        "## (이론) 4. \n",
        "\n",
        "강의에서의 최소제곱법(least squares) 문제의 해를 유도하였다. 이 문제에서는 가중 최소제곱법 (weighted least squares)의 해를 유도한다. 훈련자료 $\\{(x_i,  y_i)\\}_{i=1}^n$ ($x_i \\in \\mathbb{R}^p, y_i \\in \\mathbb{R}$)과 더불어 가중치 $\\{ w_i \\}_{i=1}^n$이 주어졌다 하자. 단, $w_i > 0$이고 $\\sum_{i=1}^n w_i = 1$이다. (주: 예를들어 일반적인 최소제곱법은 $w_i = 1/n$이라 생각할 수 있다.)\n",
        "\n",
        "가중 최소제곱법의 해는 아래의 가중 오차제곱합을 $\\theta$의 함수로서 최소화함으로써 얻어진다. (편의상 intercept를 생략하였다.)\n",
        "\n",
        "$$\n",
        "\\sum_{i=1}^n w_i (y_i - x_i^T \\theta)^2\n",
        "$$\n",
        "\n",
        "$\\phi(\\theta) = \\sum_{i=1}^n w_i (y_i - x_i^T \\theta)^2$으로 놓고, 아래 물음에 답하시오. 단,  $n \\geq p$을 가정하고, 또한 자료행렬 ${\\bf X} = \\begin{bmatrix} x_1^T \\\\ x_2^T \\\\ \\vdots \\\\ x_n^T \\end{bmatrix}$이 full column rank임을 가정하라.\n",
        "\n",
        "* (a) $\\phi(\\theta)$의 최소화원이 **유일**하게 **존재**함을 증명하시오. 즉, $\\phi(\\theta)$의 Hessian matrix가 모든 $\\theta$에 대하여 positive definite임을 보이시오.\n",
        "* (b) $\\phi(\\theta)$의 최소화원을 $\\widehat{\\theta}$라 할 때, 아래 등식이 성립함을 증명하시오\n",
        "$$\n",
        "\\widehat{\\theta} = ({\\bf X}^T {\\bf W} {\\bf X})^{-1} {\\bf X}^T {\\bf W} {\\bf y}\n",
        "$$\n",
        "단, ${\\bf W} = {\\rm diag}(w_1, \\ldots, w_n) \\in \\mathbb{R}^{n \\times n}$ 및 ${\\bf y} = (y_1, \\ldots, y_n)^T \\in \\mathbb{R}^{n}$이다. "
      ]
    },
    {
      "cell_type": "markdown",
      "metadata": {
        "id": "zLHRJ2gQ_o9i"
      },
      "source": [
        "## (코딩) 5. \n",
        "\n",
        "* (a) Example 2.A의 4번을 풀라. \n",
        "* (b) (a)를 k-NN 회귀에 대하여도 수행하라. 다시 말해서, 홀수 $k$($1 \\leq k \\leq 20$)에 대하여, k-NN 회귀에 대한 ${\\rm MSE}_{\\sf Tr}$과 ${\\rm MSE}_{\\sf Te}$를 계산하라. 어떤 경향성이 있는가?\n"
      ]
    },
    {
      "cell_type": "markdown",
      "metadata": {
        "id": "Rhvl8vkd_pMU"
      },
      "source": [
        "## (코딩) 6.\n",
        "\n",
        "* (a) Example 2.B의 7번을 풀라.\n",
        "* (b) (a)를 k-NN 회귀에 대하여도 수행하라. 다시 말해서, k-NN 회귀를 ($k$는 $1 \\leq k \\leq 20$인 홀수)을 적합하였을 때 $X=x_0$에 대한 $Y$의 예측값을 $\\widehat{f}^{(k)}(x_0)$이라 할 때, ${\\rm Var} \\left\\{ \\widehat{f}^{(k)}(x_0) \\right\\}$과 $\\mathbb{E}[  \\widehat{f}^{(k)}(x_0) ] - f(x_0)$의  근삿값을 제시하라. 어떤 경향성이 있는가?"
      ]
    },
    {
      "cell_type": "markdown",
      "metadata": {
        "id": "hKIMTI1sYtWU"
      },
      "source": [
        "## (코딩) 7. ISLR 연습문제 3.9"
      ]
    },
    {
      "cell_type": "markdown",
      "metadata": {
        "id": "ILxHmUQ5Sxvb"
      },
      "source": [
        "## (코딩) 8.  \n",
        "\n",
        "**배경설명.** \n",
        "\n",
        "숙제1의 용산구 데이터셋을 변환하여 193 by 5 dataset (`df`)를 만들었다. `df`의 row의 단위는 계약물건이다. column은 고유번호(`id`), input feature 2개 (`age`, `size`), 연속형 반응변수(`bo`), 범주형 반응변수(`is_bo_geq_2`)로 이루어져 있다. 여기서 `age`는 물건의 연령(단위:년), `size`는 크기(단위:제곱미터)이다. `bo`는 보정보증금 (계약보증금 + 월세x12x25)이고, 단위는 만원이다 (주: 숙제1에 제시한 보정보증금 공식이 잘못되어 정정하였다). `is_bo_geq_2`는 물건의 보정보증금이 2억 이상이면 1로, 그 외에는 0으로 범주화하였다. \n",
        "\n",
        "아래 code chunk에서는 숙제 수행을 돕기 위하여 `df`를 미리 훈련 데이터셋 (`df.train`) 및 테스트 데이터셋 (`df.test`)로 분할하여 두었다. 아래 물음에 답하시오."
      ]
    },
    {
      "cell_type": "code",
      "metadata": {
        "colab": {
          "base_uri": "https://localhost:8080/"
        },
        "id": "wSoRvwt2Vggt",
        "outputId": "3ba656f8-f77b-4a90-eb07-8d3744961559"
      },
      "source": [
        "df = read.csv(\"https://raw.githubusercontent.com/ygchoi-smwu/datamining/main/yongsan-hw2.csv\", header=T)\n",
        "n = nrow(df)\n",
        "set.seed(1)\n",
        "id.permuted = sample.int(n=n, size=n, replace=FALSE)\n",
        "n.train = floor(n * 0.7)\n",
        "ids.train = id.permuted[1:n.train]\n",
        "ids.test = setdiff(1:n, ids.train)\n",
        "df.train = df[ids.train, ]\n",
        "df.test = df[ids.test, ]\n",
        "print(ids.train)\n",
        "print(ids.test)\n",
        "str(df.train)\n",
        "str(df.test)"
      ],
      "execution_count": 2,
      "outputs": [
        {
          "output_type": "stream",
          "name": "stdout",
          "text": [
            "  [1]  68 167 129 162  43  14 187  51  85  21 106 182  74   7  73  79  37 105\n",
            " [19] 110 165  34 183 126  89  33  84 163  70 181  42 111 148 156  20  44 121\n",
            " [37]  87 166 158  40  25 119 122  39 164 134  24 188 130  45  22 115 104 161\n",
            " [55] 140 141 103  75  13 154 170  23 175 168 137  29 135 124 143  93  28 108\n",
            " [73]  48 169 144 184  31 102  17 179 191 157  83  90 155 107  64  94  96 113\n",
            " [91]  60 186 171 173  10   1 189  59  26  15  58 128 147 149 109  76 150  91\n",
            "[109]  53 190 192  35  97  98  92  78 125 139 123 177  61  46  67 116 159  49\n",
            "[127] 138  56 193  50  55  47  27 180  62\n",
            " [1]   2   3   4   5   6   8   9  11  12  16  18  19  30  32  36  38  41  52  54\n",
            "[20]  57  63  65  66  69  71  72  77  80  81  82  86  88  95  99 100 101 112 114\n",
            "[39] 117 118 120 127 131 132 133 136 142 145 146 151 152 153 160 172 174 176 178\n",
            "[58] 185\n",
            "'data.frame':\t135 obs. of  5 variables:\n",
            " $ id         : int  68 167 129 162 43 14 187 51 85 21 ...\n",
            " $ age        : int  7 49 0 6 2 7 31 0 2 14 ...\n",
            " $ size       : num  27.3 111.8 29.5 26.4 34.9 ...\n",
            " $ bo         : num  19425 12500 28000 29000 24000 ...\n",
            " $ is_bo_geq_2: int  0 0 1 1 1 1 0 1 0 1 ...\n",
            "'data.frame':\t58 obs. of  5 variables:\n",
            " $ id         : int  2 3 4 5 6 8 9 11 12 16 ...\n",
            " $ age        : int  23 15 0 0 17 6 10 27 2 0 ...\n",
            " $ size       : num  50 60.7 29.9 37.4 48.9 ...\n",
            " $ bo         : num  22000 25000 28000 30000 22800 24000 13000 23800 25000 25500 ...\n",
            " $ is_bo_geq_2: int  1 1 1 1 1 1 0 1 1 1 ...\n"
          ]
        }
      ]
    },
    {
      "cell_type": "markdown",
      "metadata": {
        "id": "07nF-gSDVwrA"
      },
      "source": [
        "* (a). 2개의 feature(`age`, `size`)를 input($X$)으로, `bo`를 output($Y$)으로 하여 다음 회귀 방법론들을 훈련 데이터셋에 적합하고, 각 방법에 대한 test-set MSE를 계산하여라.\n",
        "\n",
        "    * i. 선형회귀\n",
        "    * ii. 2차 다항식 회귀 (즉, input feature를 `age`, `size`, `age`$^2$, `size`$^2$, `age*size`으로 하는 선형회귀)\n",
        "    * iii. 3-NN\n",
        "    * iv. 10-NN\n",
        "    * v. 훈련 데이터셋의 $Y$ 평균으로 예측하기\n",
        "\n",
        "(주1: v.처럼 간단하면서도 $X$에 의존하지 않는 예측기법을 \"나이브 벤치마크\"라 부른다. 지도학습 방법론들의 성능이 나이브 벤치마크와 비교하여 큰 개선을 주지 않는다면, 지금 수집한 $X$는 $Y$의 예측에 별 도움이 안 된다고 판단해볼 수 있다.)\n",
        "\n",
        "(주2: v는 상수항 회귀와 동일한 결과를 주고, n-NN (근접이웃의 샘플수를 훈련 데이터셋과 동일하게 하기)와도 동일한 결과를 준다.)\n",
        "\n",
        "\n",
        "* (b). 2개의 feature를 input($X$)으로, `is_bo_geq_2`를 output($Y$)으로 하여 다음 분류 방법론들을 훈련 데이터셋에 적합하고, 각 방법에 대한 test-set classification error를 제시하여라.\n",
        "\n",
        "    * i. 3-NN\n",
        "    * ii. 10-NN\n",
        "    * iii. 훈련 데이터셋의 major class로 예측하기\n",
        "\n",
        "(주: 분류문제에서는 iii이 나이브 벤치마크로 많이 사용된다.)\n"
      ]
    },
    {
      "cell_type": "markdown",
      "metadata": {
        "id": "gpDxViCBj63n"
      },
      "source": [
        "## 부록. \n",
        "\n",
        "아래 코드는 `yongsan-hw2.csv`를 만드는 과정이다.\n",
        "```\n",
        "df = read.csv(\"https://raw.githubusercontent.com/ygchoi-smwu/datamining/ef6f621bc4a66cf75690e1c3e00a82e3f20bc0b8/yongsangu-rentalContracts-202108.csv\", header=T)\n",
        "# .... (중략) \n",
        "df$size = as.numeric(df$size)\n",
        "df$age = as.numeric(df$year) - as.numeric(df$build_y)\n",
        "df$bo = df$bo_price + 25 * 12 * df$mo_price\n",
        "df$is_bo_geq_2 = as.numeric(df$bo_price_adj >= 20000) \n",
        "summary(df[ ,c(\"age\", \"size\", \"bo\", \"is_bo_geq_2\")])\n",
        "df.hw2 = cbind(id=1:nrow(df), df[ ,c(\"age\", \"size\", \"bo\", \"is_bo_geq_2\")])\n",
        "write.csv(df.hw2, \"yongsan-hw2.csv\", row.names = F, col.names=T)\n",
        "```"
      ]
    }
  ]
}