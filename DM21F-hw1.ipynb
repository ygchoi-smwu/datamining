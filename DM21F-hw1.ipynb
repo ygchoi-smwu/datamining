{
  "nbformat": 4,
  "nbformat_minor": 0,
  "metadata": {
    "colab": {
      "name": "DM21F-hw1.ipynb",
      "provenance": [],
      "collapsed_sections": [],
      "authorship_tag": "ABX9TyMJNVRhRiF9p0iQdoNfdoRs",
      "include_colab_link": true
    },
    "kernelspec": {
      "name": "ir",
      "display_name": "R"
    },
    "language_info": {
      "name": "R"
    }
  },
  "cells": [
    {
      "cell_type": "markdown",
      "metadata": {
        "id": "view-in-github",
        "colab_type": "text"
      },
      "source": [
        "<a href=\"https://colab.research.google.com/github/ygchoi-smwu/datamining/blob/main/DM21F-hw1.ipynb\" target=\"_parent\"><img src=\"https://colab.research.google.com/assets/colab-badge.svg\" alt=\"Open In Colab\"/></a>"
      ]
    },
    {
      "cell_type": "markdown",
      "metadata": {
        "id": "HHiljQlBS1q-"
      },
      "source": [
        "# HW 1 -- Due 9/17 (금) 6pm\n",
        "\n",
        "_데이터마이닝 (2021-2 숙명여대 통계학과)_\n",
        "\n",
        "### 조원 이름 (e.g. 2112345 김눈송, 2112346 김송이, 2112347 김통계)\n",
        "\n",
        "### 본 숙제의 최종 검토 겸 제출자: ___"
      ]
    },
    {
      "cell_type": "markdown",
      "metadata": {
        "id": "zRECGVkxTpss"
      },
      "source": [
        "## 0. 일러두기\n",
        "\n",
        "- 제출법\n",
        "    - 이론 풀이는 수기로 작성 후 스캔하여 하나의 PDF 파일로 수합합니다.\n",
        "    - 코딩문제 풀이는 본 ipynb notebook에 수행합니다.\n",
        "        - 본 ipynb를 본인의 환경에 먼저 복사 한 후 (e.g. [파일]-[드라이브에 사본 저장]) 복사한 파일을 R용 구글코랩(https://colab.to/r) 에서 열고 재현할 수 있습니다.\n",
        "        - **실행 결과를 함께 제출합니다.** 제출 전 반드시 ‘[수정]-[모든 출력 지우기]’ 및 ‘[런타임]-[다시 시작 및 모두 실행]’!\n",
        "\n",
        "    - PDF 한개, ipynb 한개를 최종 검토겸 제출자가 업로드합니다.\n",
        "- 이번 숙제에서 허용되는 라이브러리는 아래와 같습니다. 아래 chunk(코드블록)을 실행시키세요.\n"
      ]
    },
    {
      "cell_type": "code",
      "metadata": {
        "id": "mN_g9JN0WEy2"
      },
      "source": [
        "library(stringr)"
      ],
      "execution_count": null,
      "outputs": []
    },
    {
      "cell_type": "markdown",
      "metadata": {
        "id": "m-gJLCczUq1S"
      },
      "source": [
        "## (이론) 1.  ---- 풀이자: XXX, 기여자: XXX\n",
        "\n",
        "\n",
        "수리통계 핵심 개념의 간단한 복습이다. $n$개의 확률변수 $X_1, \\ldots, X_n$이 iid로 정규분포 $N(\\theta, 1)$을 따른다 하자. (즉, $X_1, \\ldots, X_n \\stackrel{iid}{\\sim} N(\\theta, 1)$) 여기서 $\\theta$는 알려지지 않았으며 추정이 필요한 모수 (unknown parameter)이다. 단, $\\theta \\in \\mathbb{R}$.\n",
        "\n",
        "- (a) $\\theta$의 가능도함수 (likelihood function) $L(\\theta)$를 서술하여라.\n",
        "- (b) $\\theta$의 로그가능도함수 (loglikelihood function) $l(\\theta)$를 서술하여라.\n",
        "- (c) $\\theta$의 최대가능도추정량 (maximum likelihood estimator)을 유도하여라.\n",
        "- (d) 이번에는 $X_1, \\ldots, X_n \\stackrel{iid}{\\sim} Bernoulli(\\theta)$, 즉, 시행횟수가 1이고 성공확률이 $\\theta$인 이항분포를 iid로 따른다고 가정하자. 단, $0 < \\theta < 1$이다. 이 경우 $\\theta$의 최대가능도추정량을 유도하여라.\n",
        "\n"
      ]
    },
    {
      "cell_type": "markdown",
      "metadata": {
        "id": "kRLOdkg3oabq"
      },
      "source": [
        "## (이론) 2. ISLR #2.7  ---- 풀이자: XXX, 기여자: XXX\n",
        "\n",
        "* 특별한 언급이 없으면, ISLR은 ISLR 2판을 지칭합니다.\n"
      ]
    },
    {
      "cell_type": "markdown",
      "metadata": {
        "id": "ILxHmUQ5Sxvb"
      },
      "source": [
        "## (코딩) 3.  ---- 풀이자: XXX, 기여자: XXX\n",
        "\n",
        "**배경설명.** 객체 `df_raw`에는 서울 용산구 단독/다세대주택 대상의 2021년 8월 전월세계약 확정일자 신고정보가 테이블로 저장되어 있다. 아래 코드는 `df_raw`를 불러들이는 코드이다. 공공데이터포털로부터 스크래핑한 그대로의 상태이기 때문에, 적절한 기초탐색과 가공이 필요하다. 예를 들어 계약보증금(`bo_price`)은 문자형(character)로 저장되어 있다.\n",
        "\n",
        "(각주: 추가적으로, google colab의 출력 환경은 RStuidio와는 다르기 때문에, 경우에 따라서 `print()`로 명령어를 감싸줄 필요가 있다.)"
      ]
    },
    {
      "cell_type": "code",
      "metadata": {
        "colab": {
          "base_uri": "https://localhost:8080/",
          "height": 283
        },
        "id": "tQvJZRjLUNlA",
        "outputId": "18e658f2-19ab-464c-8ffb-50992b8c0dbf"
      },
      "source": [
        "df_raw = read.csv(\"https://raw.githubusercontent.com/ygchoi-smwu/datamining/ef6f621bc4a66cf75690e1c3e00a82e3f20bc0b8/yongsangu-rentalContracts-202108.csv\", header=T)\n",
        "head(df_raw)"
      ],
      "execution_count": null,
      "outputs": [
        {
          "output_type": "display_data",
          "data": {
            "text/plain": [
              "  build_y year month day dong    bo_price   mo_price apt_nm                 \n",
              "1 2021    2021 8      2   후암동     27,000  0       아인하우스(1,2동)      \n",
              "2 1998    2021 8      4   후암동     22,000  0       중앙그린빌라(27-7)     \n",
              "3 2006    2021 8      4   후암동     25,000  0       훼미리빌               \n",
              "4 2021    2021 8      5   후암동     28,000  0       아인하우스(1,2동)      \n",
              "5 2021    2021 8      7   후암동     30,000  0       용산 센트럴파크 평화1차\n",
              "6 2004    2021 8     11   후암동     15,300 25       (156-7)                \n",
              "  size  jibun  ji_code floor\n",
              "1 27.05 258-8  11170   3    \n",
              "2 49.98 27-7   11170   4    \n",
              "3 60.74 303-1  11170   5    \n",
              "4 29.94 258-8  11170   4    \n",
              "5 37.36 265-14 11170   3    \n",
              "6 48.94 156-7  11170   4    "
            ],
            "text/latex": "A data.frame: 6 × 12\n\\begin{tabular}{r|llllllllllll}\n  & build\\_y & year & month & day & dong & bo\\_price & mo\\_price & apt\\_nm & size & jibun & ji\\_code & floor\\\\\n  & <int> & <int> & <int> & <int> & <chr> & <chr> & <int> & <chr> & <dbl> & <chr> & <int> & <int>\\\\\n\\hline\n\t1 & 2021 & 2021 & 8 &  2 &  후암동 &     27,000 &  0 & 아인하우스(1,2동)       & 27.05 & 258-8  & 11170 & 3\\\\\n\t2 & 1998 & 2021 & 8 &  4 &  후암동 &     22,000 &  0 & 중앙그린빌라(27-7)      & 49.98 & 27-7   & 11170 & 4\\\\\n\t3 & 2006 & 2021 & 8 &  4 &  후암동 &     25,000 &  0 & 훼미리빌                & 60.74 & 303-1  & 11170 & 5\\\\\n\t4 & 2021 & 2021 & 8 &  5 &  후암동 &     28,000 &  0 & 아인하우스(1,2동)       & 29.94 & 258-8  & 11170 & 4\\\\\n\t5 & 2021 & 2021 & 8 &  7 &  후암동 &     30,000 &  0 & 용산 센트럴파크 평화1차 & 37.36 & 265-14 & 11170 & 3\\\\\n\t6 & 2004 & 2021 & 8 & 11 &  후암동 &     15,300 & 25 & (156-7)                 & 48.94 & 156-7  & 11170 & 4\\\\\n\\end{tabular}\n",
            "text/markdown": "\nA data.frame: 6 × 12\n\n| <!--/--> | build_y &lt;int&gt; | year &lt;int&gt; | month &lt;int&gt; | day &lt;int&gt; | dong &lt;chr&gt; | bo_price &lt;chr&gt; | mo_price &lt;int&gt; | apt_nm &lt;chr&gt; | size &lt;dbl&gt; | jibun &lt;chr&gt; | ji_code &lt;int&gt; | floor &lt;int&gt; |\n|---|---|---|---|---|---|---|---|---|---|---|---|---|\n| 1 | 2021 | 2021 | 8 |  2 |  후암동 |     27,000 |  0 | 아인하우스(1,2동)       | 27.05 | 258-8  | 11170 | 3 |\n| 2 | 1998 | 2021 | 8 |  4 |  후암동 |     22,000 |  0 | 중앙그린빌라(27-7)      | 49.98 | 27-7   | 11170 | 4 |\n| 3 | 2006 | 2021 | 8 |  4 |  후암동 |     25,000 |  0 | 훼미리빌                | 60.74 | 303-1  | 11170 | 5 |\n| 4 | 2021 | 2021 | 8 |  5 |  후암동 |     28,000 |  0 | 아인하우스(1,2동)       | 29.94 | 258-8  | 11170 | 4 |\n| 5 | 2021 | 2021 | 8 |  7 |  후암동 |     30,000 |  0 | 용산 센트럴파크 평화1차 | 37.36 | 265-14 | 11170 | 3 |\n| 6 | 2004 | 2021 | 8 | 11 |  후암동 |     15,300 | 25 | (156-7)                 | 48.94 | 156-7  | 11170 | 4 |\n\n",
            "text/html": [
              "<table class=\"dataframe\">\n",
              "<caption>A data.frame: 6 × 12</caption>\n",
              "<thead>\n",
              "\t<tr><th></th><th scope=col>build_y</th><th scope=col>year</th><th scope=col>month</th><th scope=col>day</th><th scope=col>dong</th><th scope=col>bo_price</th><th scope=col>mo_price</th><th scope=col>apt_nm</th><th scope=col>size</th><th scope=col>jibun</th><th scope=col>ji_code</th><th scope=col>floor</th></tr>\n",
              "\t<tr><th></th><th scope=col>&lt;int&gt;</th><th scope=col>&lt;int&gt;</th><th scope=col>&lt;int&gt;</th><th scope=col>&lt;int&gt;</th><th scope=col>&lt;chr&gt;</th><th scope=col>&lt;chr&gt;</th><th scope=col>&lt;int&gt;</th><th scope=col>&lt;chr&gt;</th><th scope=col>&lt;dbl&gt;</th><th scope=col>&lt;chr&gt;</th><th scope=col>&lt;int&gt;</th><th scope=col>&lt;int&gt;</th></tr>\n",
              "</thead>\n",
              "<tbody>\n",
              "\t<tr><th scope=row>1</th><td>2021</td><td>2021</td><td>8</td><td> 2</td><td> 후암동</td><td>    27,000</td><td> 0</td><td>아인하우스(1,2동)      </td><td>27.05</td><td>258-8 </td><td>11170</td><td>3</td></tr>\n",
              "\t<tr><th scope=row>2</th><td>1998</td><td>2021</td><td>8</td><td> 4</td><td> 후암동</td><td>    22,000</td><td> 0</td><td>중앙그린빌라(27-7)     </td><td>49.98</td><td>27-7  </td><td>11170</td><td>4</td></tr>\n",
              "\t<tr><th scope=row>3</th><td>2006</td><td>2021</td><td>8</td><td> 4</td><td> 후암동</td><td>    25,000</td><td> 0</td><td>훼미리빌               </td><td>60.74</td><td>303-1 </td><td>11170</td><td>5</td></tr>\n",
              "\t<tr><th scope=row>4</th><td>2021</td><td>2021</td><td>8</td><td> 5</td><td> 후암동</td><td>    28,000</td><td> 0</td><td>아인하우스(1,2동)      </td><td>29.94</td><td>258-8 </td><td>11170</td><td>4</td></tr>\n",
              "\t<tr><th scope=row>5</th><td>2021</td><td>2021</td><td>8</td><td> 7</td><td> 후암동</td><td>    30,000</td><td> 0</td><td>용산 센트럴파크 평화1차</td><td>37.36</td><td>265-14</td><td>11170</td><td>3</td></tr>\n",
              "\t<tr><th scope=row>6</th><td>2004</td><td>2021</td><td>8</td><td>11</td><td> 후암동</td><td>    15,300</td><td>25</td><td>(156-7)                </td><td>48.94</td><td>156-7 </td><td>11170</td><td>4</td></tr>\n",
              "</tbody>\n",
              "</table>\n"
            ]
          },
          "metadata": {}
        }
      ]
    },
    {
      "cell_type": "code",
      "metadata": {
        "colab": {
          "base_uri": "https://localhost:8080/",
          "height": 408
        },
        "id": "tN9SA49JW833",
        "outputId": "db477f69-46fc-46bb-a73b-1d04ede91896"
      },
      "source": [
        "print(dim(df_raw))\n",
        "cat('\\n')  ## 가독성을 위하여 출력에 한 줄 공백을 추가하였음.\n",
        "summary(df_raw)"
      ],
      "execution_count": null,
      "outputs": [
        {
          "output_type": "stream",
          "name": "stdout",
          "text": [
            "[1] 193  12\n",
            "\n"
          ]
        },
        {
          "output_type": "display_data",
          "data": {
            "text/plain": [
              "    build_y          year          month        day            dong          \n",
              " Min.   :1971   Min.   :2021   Min.   :8   Min.   : 1.00   Length:193        \n",
              " 1st Qu.:2004   1st Qu.:2021   1st Qu.:8   1st Qu.: 7.00   Class :character  \n",
              " Median :2016   Median :2021   Median :8   Median :13.00   Mode  :character  \n",
              " Mean   :2011   Mean   :2021   Mean   :8   Mean   :14.15                     \n",
              " 3rd Qu.:2019   3rd Qu.:2021   3rd Qu.:8   3rd Qu.:20.00                     \n",
              " Max.   :2021   Max.   :2021   Max.   :8   Max.   :31.00                     \n",
              "   bo_price            mo_price         apt_nm               size       \n",
              " Length:193         Min.   :  0.00   Length:193         Min.   : 12.19  \n",
              " Class :character   1st Qu.:  0.00   Class :character   1st Qu.: 27.08  \n",
              " Mode  :character   Median :  0.00   Mode  :character   Median : 29.83  \n",
              "                    Mean   : 16.01                      Mean   : 40.94  \n",
              "                    3rd Qu.:  0.00                      3rd Qu.: 51.90  \n",
              "                    Max.   :787.00                      Max.   :150.79  \n",
              "    jibun              ji_code          floor       \n",
              " Length:193         Min.   :11170   Min.   :-1.000  \n",
              " Class :character   1st Qu.:11170   1st Qu.: 2.000  \n",
              " Mode  :character   Median :11170   Median : 3.000  \n",
              "                    Mean   :11170   Mean   : 2.995  \n",
              "                    3rd Qu.:11170   3rd Qu.: 4.000  \n",
              "                    Max.   :11170   Max.   :16.000  "
            ]
          },
          "metadata": {}
        }
      ]
    },
    {
      "cell_type": "markdown",
      "metadata": {
        "id": "07nF-gSDVwrA"
      },
      "source": [
        "1-(a). 먼저 법정동(`dong`)별 보증금의 분포를 조사하되, 계약물건에 따라 월세의 비중이 다름에 주의코자 한다. `df_raw`로부터 다음 조건을 만족하는 `df`를 생성하는 코드를 작성하여라.\n",
        "- `df`의 열은 2개\n",
        "    - `df$dong`: 법정동. `df_raw$dong`을 factor형으로 변환\n",
        "    - `df$bo_price_adj`: 보정보증금. numeric형. 보증금(`df_raw$bo_price`)에 월세(`df_raw$mo_price`)의 25배를 더함 (전월세전환율 4%를 가정).\n",
        "- `summary(df)`를 수행하였을 때 아래와 동일한 결과가 나와야 한다.\n",
        "\n",
        "```\n",
        "> summary(df)\n",
        "         dong     bo_price_adj   \n",
        "  효창동   :34   Min.   :  1250  \n",
        "  후암동   :26   1st Qu.: 15925  \n",
        "  용문동   :21   Median : 22000  \n",
        "  원효로3가:16   Mean   : 22973  \n",
        "  원효로1가:15   3rd Qu.: 27000  \n",
        "  이태원동 :10   Max.   :140000  \n",
        " (Other)   :71 \n",
        "```"
      ]
    },
    {
      "cell_type": "code",
      "metadata": {
        "id": "SluK8gG-hMgr"
      },
      "source": [
        "#####################################\n",
        "### 여기에 답안코드를 작성하세요\n",
        "# (your code here)\n",
        "#####################################\n",
        "summary(df)"
      ],
      "execution_count": null,
      "outputs": []
    },
    {
      "cell_type": "markdown",
      "metadata": {
        "id": "wFb721cCX2K4"
      },
      "source": [
        "1-(b). 다음을 계산하라. 사고과정과 핵심 수치는 plain text chunk를 만들어 답하되, 제시된 수치를 재현할 수 있는 code chunk를 같이 첨부하라. \n",
        "\n",
        "- i. freq(`dong` $\\in$ {효창동, 원효로1가, 청파동3가})\n",
        "    * 즉, 전체 신고건수 중 학교근처 물건의 점유율\n",
        "- ii. freq(`dong` = 효창동| `dong` $\\in$ {효창동, 원효로1가, 청파동3가})\n",
        "    * 즉, 학교 근처 계약물건 중 효창동 물건의 빈도\n",
        "- iii. ave(`bo_price_adj`| `dong` $\\in$ {효창동, 원효로1가, 청파동3가})\n",
        "    * 즉, 학교 근처 계약물건의 (표본)평균 보정보증금\n",
        "- iv. sd(`bo_price_adj`| `dong` $\\in$ {효창동, 원효로1가, 청파동3가})\n",
        "    * 즉, 학교 근처 계약물건의 보정보증금의 (표본)표준편차\n",
        "- v. med(`bo_price_adj`| `dong` $\\in$ {효창동, 원효로1가, 청파동3가})\n",
        "    * 즉, 학교 근처 계약물건의 보정보증금의 중앙값(median)을 계산하여라. 자료에 tie (동수)가 존재한다면 등수를 랜덤하게 분배하고, 계산 대상 자료가 짝수개라면 중앙순위에 가장 가까운 두 개체의 관찰값을 내삽(interpolate)하여라. 즉, {효창동, 원효로1가, 청파동3가} 계약물건의 보증금이 1억, 2억, 3억, 3억 총 4건이 있다면, 각각 4등, 3등, 1등, 2등으로 간주하고, 중앙값에 가장 가까운 2등(3억) 및 3등(2억)을 평균내어 2.5억으로 답하라."
      ]
    },
    {
      "cell_type": "markdown",
      "metadata": {
        "id": "KqyDsMyNhaR3"
      },
      "source": [
        "답안: "
      ]
    },
    {
      "cell_type": "code",
      "metadata": {
        "id": "eAbH4FdkhZVD"
      },
      "source": [
        "##################################################\n",
        "### 답안에 제시된 수치를 재현할 수 있는 코드를 작성하세요.\n",
        "# (your code here)\n",
        "##################################################"
      ],
      "execution_count": null,
      "outputs": []
    },
    {
      "cell_type": "markdown",
      "metadata": {
        "id": "lfeZFZ9QdN5v"
      },
      "source": [
        "1-(c) 원효로1가, 청파동3가, 효창동 중 평균 보정보증금이 가장 낮은 동은 어디인가? 또한 보정보증금의 중앙값이 가장 낮은 동은 어디인가? 보정보증금의 표준편차가 가장 적은 동은 어디인가? 사고과정과 핵심 수치는 아래 plain text chunk에 답하되, 제시된 수치를 재현할 수 있는 code chunk를 그 아래 첨부하라."
      ]
    },
    {
      "cell_type": "markdown",
      "metadata": {
        "id": "tVXplanfh321"
      },
      "source": [
        "답안: "
      ]
    },
    {
      "cell_type": "code",
      "metadata": {
        "id": "gbfIbruhdNLr"
      },
      "source": [
        "##################################################\n",
        "### 답안에 제시된 수치를 재현할 수 있는 코드를 작성하세요.\n",
        "# (your code here)\n",
        "##################################################"
      ],
      "execution_count": null,
      "outputs": []
    },
    {
      "cell_type": "markdown",
      "metadata": {
        "id": "0XprPO4CiAGr"
      },
      "source": [
        "## (코딩) 4. ISLR #2.9  ---- 풀이자: XXX, 기여자: XXX\n",
        "\n",
        "* 특별한 언급이 없으면, 소문제(a,b,c,d,e,f)별로 사고과정과 핵심 수치는 plain text chunk를 만들어 답하되, 제시된 수치를 재현할 수 있는 code chunk를 같이 첨부하라."
      ]
    }
  ]
}