{
  "nbformat": 4,
  "nbformat_minor": 0,
  "metadata": {
    "colab": {
      "name": "DM21F-hw5.ipynb",
      "provenance": [],
      "collapsed_sections": [],
      "authorship_tag": "ABX9TyMgCsjOlOPrS4XKyg3n6kmV",
      "include_colab_link": true
    },
    "kernelspec": {
      "name": "ir",
      "display_name": "R"
    },
    "language_info": {
      "name": "R"
    }
  },
  "cells": [
    {
      "cell_type": "markdown",
      "metadata": {
        "id": "view-in-github",
        "colab_type": "text"
      },
      "source": [
        "<a href=\"https://colab.research.google.com/github/ygchoi-smwu/datamining/blob/main/DM21F-hw5.ipynb\" target=\"_parent\"><img src=\"https://colab.research.google.com/assets/colab-badge.svg\" alt=\"Open In Colab\"/></a>"
      ]
    },
    {
      "cell_type": "markdown",
      "metadata": {
        "id": "HHiljQlBS1q-"
      },
      "source": [
        "# HW 5 -- Due 12/2 (목) 3pm\n",
        "\n",
        "_데이터마이닝 (2021-2 숙명여대 통계학과)_,  Last update at 2021-11-13 6:30pm\n",
        "\n",
        "### 조원 이름 (e.g. 2112345 김눈송, 2112346 김송이, 2112347 김통계)\n",
        "\n",
        "### 본 숙제의 최종 검토 겸 제출자: ___"
      ]
    },
    {
      "cell_type": "markdown",
      "metadata": {
        "id": "zRECGVkxTpss"
      },
      "source": [
        "## 0. 일러두기\n",
        "\n",
        "- 풀이&제출법\n",
        "    - **이론 문항**\n",
        "        - 풀이를 수기작성하여 하나의 PDF 파일로 수합합니다.\n",
        "    - **코딩 문항** \n",
        "        - 풀이는 본 ipynb notebook에 수행합니다.\n",
        "        - **사고과정과 핵심 수치는 text chunk를 만들어 답하되, 제시된 수치를 재현할 수 있는 code chunk를 같이 첨부**하십시오.\n",
        "        - **실행 결과가 기록된 ipynb만 채점합니다.** 제출 전 반드시 ‘[수정]-[모든 출력 지우기]’ 및 ‘[런타임]-[다시 시작 및 모두 실행]’!\n",
        "    - 문항마다 풀이자와 기여자를 기록합니다. (free rider 예방이 목적입니다. 사람 수에 제한은 없고 자율적 판단하에 기록하십시오) \n",
        "    - PDF 한개, ipynb 한개를 최종검토&제출자가 업로드합니다.\n",
        "- 라이브러리: **ISLR 8장까지 등장한 라이브러리, ggplot 및 dplyr는 사용 가능**합니다. 예를 들어 아래 code chunk를 실행시키세요.\n",
        "- 특별한 언급이 없으면 ISLR은 ISLR 2판을 지칭합니다."
      ]
    },
    {
      "cell_type": "code",
      "metadata": {
        "id": "mN_g9JN0WEy2"
      },
      "source": [
        "library(stringr)\n",
        "install.packages(c(\"ISLR2\", \"FNN\", \"pROC\", \"glmnet\", \"tree\", \"randomForest\", \"gbm\"))\n",
        "library(ISLR2)\n",
        "library(FNN)\n",
        "library(pROC)\n",
        "library(glmnet)\n",
        "library(tree)\n",
        "library(randomForest)\n",
        "library(gbm)"
      ],
      "execution_count": null,
      "outputs": []
    },
    {
      "cell_type": "markdown",
      "metadata": {
        "id": "zLHRJ2gQ_o9i"
      },
      "source": [
        "## (이론) 1. ISLR #8.1\n",
        "\n",
        "\n"
      ]
    },
    {
      "cell_type": "markdown",
      "metadata": {
        "id": "2HsnGOMtn1Xu"
      },
      "source": [
        "## (이론) 2. ISLR #8.3\n"
      ]
    },
    {
      "cell_type": "markdown",
      "metadata": {
        "id": "_qbTTfyIngAZ"
      },
      "source": [
        "## (이론) 3. ISLR #8.4\n"
      ]
    },
    {
      "cell_type": "markdown",
      "metadata": {
        "id": "RBmIsV6MoMKC"
      },
      "source": [
        "## (이론) 4. ISLR #8.5\n"
      ]
    },
    {
      "cell_type": "markdown",
      "metadata": {
        "id": "R0oD8zx8oUfR"
      },
      "source": [
        "## (코딩) 5. ISLR #8.9\n",
        "\n",
        "- [f] **수정**. 교차검증(cross-validation)은 5-fold로 하라. 데이터셋의 분할 부분은 이제까지 해왔던 것처럼 (`cv.tree()`를 사용하지 말고) 하드코딩으로 구현하여라."
      ]
    },
    {
      "cell_type": "markdown",
      "metadata": {
        "id": "wcB2pvXDo-aa"
      },
      "source": [
        "## (코딩) 6. ISLR #8.10\n",
        "\n",
        "\n",
        "- 문제 본문 부가설명: boosting은 그래디언트 부스팅을 가리킨다. bagging은 트리 배깅을 가리킨다.\n",
        "- [c] 부가설명: 문장의 shrinkage parameter $\\lambda$는 강의노트의 축소계수 $\\epsilon$을 가리킨다.\n",
        "- [c],[d] 수정.  8B장 강의노트 25쪽의 CASI Figure 17.10같은 그림을 그려라. 즉, $x$축은 기본학습기용 나무의 개수로 하고, $y$축은 MSE로 하여라. $\\epsilon=0.02, 0.1, 0.5$로 각각 설정하였을 때의 훈련세트 MSE 및 검증세트 MSE들을 한 그림에 모두 나타내어라. 훈련/테스트오류는 실선/점선으로 구분하고, 서로 다른 $\\epsilon$은 다른 색깔로 구분하여라. Interaction depth는 $d=3$으로 고정하라.\n",
        "- [e] 부가설명: 선형회귀 및 라쏘 선형회귀를 적용하여라."
      ]
    },
    {
      "cell_type": "markdown",
      "metadata": {
        "id": "Rhvl8vkd_pMU"
      },
      "source": [
        "## (코딩) 7. \n",
        "\n",
        "첨부된 `Caravan2` 데이터셋을 대상으로 미니 모형개발 보고서를 줄글로 작성하라.  `Purchase`를 반응변수($Y$)로 하고, 나머지 변수를 피처($X$)로 사용하라.  분량은 1장 이상, 1.5장 이하로 작성하라 (**Code chunk 바깥 부분 줄글을 워드 프로세서에 복/붙하였을 때 기준으로**). \n",
        "\n",
        "다음 사항을 준수하여라.\n",
        "\n",
        "  - 분류 문제로 간주한다. (참고로 `Purchase`는 응답값이 No 또는 Yes인 질적 변수이다.)\n",
        "  - 데이터셋을 훈련(training):테스트(test) 세트로 분할한다 (이를테면 8:2). \n",
        "  - 모형족은 **나이브 벤치마크, $k$-최근접이웃, 로지스틱 라쏘 선형회귀, 랜덤 포레스트, 그래디언트 부스팅**을 고려하라.\n",
        "  - 예측 클래스 산출에 cutoff가 필요하다면 (e.g. 조건부 클래스 확률 추정 기반의 분류기법들) cutoff는 0.5로 설정하라.\n",
        "  - 모형 평가는 훈련세트에 5-fold CV를 적용하여 교차검증 오류들을 계산하라.\n",
        "  - 초모수 조율이 필요한 방법들은 다양한 초모수를 실험하여라. 이를테면 그래디언트 부스팅은 (1) 축소계수, (2) 기본학습기용 나무의 깊이, (3) 기본학습기의 개수를 다양하게 조합하여 보아야 한다.\n",
        "  - 오류 측도는 본인이 3개 이상 설정하여 제시하되, 오분류율을 반드시 포함하라. 강의노트에 없는 측도를 사용하여도 좋으나 정의를 수식으로 제시한다.\n",
        "  - 모형(족)들의 교차검증 오류(cross-validation error)는 표나 그림으로 일목요연하게 제시한다.\n",
        "  - 최종적으로 모형을 두 개 정도 선정하여라. 오류 측도 및 해석가능성을 종합적으로 고려하여 결정한다.\n",
        "  - 최종 선택된 모형들은 훈련세트 전체에서 재적합 후 테스트세트 오류(test-set error)가 제시되어야 한다.\n",
        "  - 추가적으로 보고서에 필요하다고 생각하는 작업(이를테면 피처의 전처리, 결과의 해석, 특정 작업의 정당화, 추가적 시각화, 추가분석, 제언)이 있다면 자율적으로 수행하라.\n",
        "\n",
        "참고\n",
        "  - 2020년도 비슷한 과제의 모형개발 보고서 샘플을 같이 업로드하였다.\n",
        "  -  `Caravan2`는  `ISLR` 패키지의 `Caravan` 데이터셋에서 클래스 불균형을 조정하여 생성하였다. 원 데이터는 minor class (`Purchase=='Yes'`)의  레코드가 348개이고, major class (`Purchase='No'`)는 5474 레코드가 있다. `Caravan2`에서는 major class 레코드에서 임의로 348개만 sampling하여 ('undersampling') 두 클래스의 비율을 맞추었다.\n",
        "  - 데이터셋 설명은 콘솔에 `??Caravan`을 입력하여 열람 가능하다."
      ]
    }
  ]
}